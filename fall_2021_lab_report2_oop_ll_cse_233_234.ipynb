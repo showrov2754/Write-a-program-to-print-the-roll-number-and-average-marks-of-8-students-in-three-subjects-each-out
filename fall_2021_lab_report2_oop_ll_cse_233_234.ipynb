{
  "nbformat": 4,
  "nbformat_minor": 0,
  "metadata": {
    "colab": {
      "name": " fall 2021 lab report2 oop ll cse 233/234.ipynb",
      "provenance": [],
      "authorship_tag": "ABX9TyPApxjaCA/qP5RZRBs3+zJA",
      "include_colab_link": true
    },
    "kernelspec": {
      "name": "python3",
      "display_name": "Python 3"
    },
    "language_info": {
      "name": "python"
    }
  },
  "cells": [
    {
      "cell_type": "markdown",
      "metadata": {
        "id": "view-in-github",
        "colab_type": "text"
      },
      "source": [
        "<a href=\"https://colab.research.google.com/github/showrov2754/Write-a-program-to-print-the-roll-number-and-average-marks-of-8-students-in-three-subjects-each-out/blob/main/fall_2021_lab_report2_oop_ll_cse_233_234.ipynb\" target=\"_parent\"><img src=\"https://colab.research.google.com/assets/colab-badge.svg\" alt=\"Open In Colab\"/></a>"
      ]
    },
    {
      "cell_type": "markdown",
      "source": [
        "**Write a program to print the roll number and average marks of 8 students in three subjects (each out of 100). The marks are entered by user.Forum**"
      ],
      "metadata": {
        "id": "Hdzb-r0rHV38"
      }
    },
    {
      "cell_type": "code",
      "source": [
        "class Student:\n",
        "    marks = []\n",
        "    def getData(self, rn, name, m1, m2, m3):\n",
        "        Student.rn = rn\n",
        "        Student.name = name\n",
        "        Student.marks.append(m1)\n",
        "        Student.marks.append(m2)\n",
        "        Student.marks.append(m3)\n",
        "        \n",
        "    def displayData(self):\n",
        "        print (\"Roll Number is: \", Student.rn)\n",
        "        print (\"Name is: \", Student.name)\n",
        "        #print (\"Marks in subject 1: \", Student.marks[0])\n",
        "        #print (\"Marks in subject 2: \", Student.marks[1])\n",
        "        #print (\"Marks in subject 3: \", Student.marks[2])\n",
        "        print (\"Marks are: \", Student.marks)\n",
        "        print (\"Total Marks are: \", self.total())\n",
        "        print (\"Average Marks are: \", self.average())\n",
        "        \n",
        "    def total(self):\n",
        "        return (Student.marks[0] + Student.marks[1] +Student.marks[2])\n",
        "    \n",
        "    def average(self):\n",
        "        return ((Student.marks[0] + Student.marks[1] +Student.marks[2])/3)\n",
        "    \n",
        "r = int (input(\"Enter the roll number: \"))\n",
        "name = input(\"Enter the name: \")\n",
        "m1 = int (input(\"Enter the marks in the first subject: \"))\n",
        "m2 = int (input(\"Enter the marks in the second subject: \"))\n",
        "m3 = int (input(\"Enter the marks in the third subject: \"))\n",
        "\n",
        "s1 = Student()\n",
        "s1.getData(r, name, m1, m2, m3)\n",
        "s1.displayData()"
      ],
      "metadata": {
        "id": "D6qyhlLPHWL7"
      },
      "execution_count": null,
      "outputs": []
    }
  ]
}